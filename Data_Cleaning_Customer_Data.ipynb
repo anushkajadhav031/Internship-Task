{
 "cells": [
  {
   "cell_type": "code",
   "execution_count": 1,
   "id": "31ad34d8-5696-4d2e-a2d4-f340e79db3be",
   "metadata": {},
   "outputs": [],
   "source": [
    "# import libraries\n",
    "import numpy as np\n",
    "import pandas as pd\n",
    "import warnings\n",
    "warnings.filterwarnings('ignore')"
   ]
  },
  {
   "cell_type": "code",
   "execution_count": 2,
   "id": "5e6fa5bc-ca8b-4122-8d95-17a5044c350c",
   "metadata": {},
   "outputs": [
    {
     "name": "stdout",
     "output_type": "stream",
     "text": [
      "     CustomerID     Product                Price Quantity       City PurchaseDate\n",
      "0          1052     Desktop                  NaN      4.0  Bangalore   2021-06-30\n",
      "1          1041     Desktop                  NaN      3.0      Delhi   2023-01-21\n",
      "2          1057  Smartphone  forty-five thousand      2.0  Bangalore   2023-04-06\n",
      "3          1038      Tablet              45000.0      1.0    Chennai   2023-07-05\n",
      "4          1013  Smartphone              45000.0      NaN     Mumbai   2022-04-11\n",
      "5          1094      Laptop              60000.0      two     Mumbai   2022-03-12\n",
      "6          1004      Laptop              30000.0      2.0    Chennai   2022-02-25\n",
      "7          1034      Laptop              30000.0      2.0    Chennai   2022-12-22\n",
      "8          1086      Laptop              30000.0      3.0      Delhi   2022-10-23\n",
      "9          1092     Desktop              30000.0      3.0     Mumbai   2022-03-12\n",
      "10         1074      Laptop              45000.0      NaN  Bangalore   2021-08-14\n",
      "11         1017     Desktop              45000.0      NaN       Pune   2022-08-09\n",
      "12         1075     Desktop              30000.0      1.0       Pune   2021-09-28\n",
      "13         1008      Laptop              60000.0      1.0    Chennai   2021-09-13\n",
      "14         1073      Laptop              15000.0      NaN      Delhi   2021-01-01\n",
      "15         1057      Tablet              15000.0      NaN       Pune   2022-11-22\n",
      "16         1016  Smartphone              60000.0      4.0     Mumbai   2023-09-03\n",
      "17         1006      Laptop              30000.0      3.0    Chennai   2022-07-10\n",
      "18         1045      Tablet              45000.0      1.0  Bangalore   2023-01-21\n",
      "19         1012      Tablet              15000.0      3.0    Chennai   2023-07-20\n",
      "20         1039  Smartphone                  NaN      3.0  Bangalore   2021-02-15\n",
      "21         1041     Desktop                  NaN      NaN    Chennai   2021-01-01\n",
      "22         1008      Laptop              60000.0      4.0    Chennai   2021-04-16\n",
      "23         1049  Smartphone              30000.0      2.0    Chennai   2022-02-25\n",
      "24         1026      Laptop              15000.0      4.0  Bangalore   2023-03-22\n",
      "25         1065      Tablet              30000.0      4.0  Bangalore   2021-01-31\n",
      "26         1004      Tablet              15000.0      3.0    Chennai   2022-04-11\n",
      "27         1028     Desktop              60000.0      4.0       Pune   2021-05-16\n",
      "28         1036      Tablet              60000.0      1.0      Delhi   2022-05-11\n",
      "29         1037      Tablet                  NaN      3.0      Delhi   2023-03-22\n",
      "30         1082  Smartphone              30000.0      1.0      Delhi   2022-04-11\n",
      "31         1007      Laptop                  NaN      2.0  Bangalore   2023-01-06\n",
      "32         1064      Laptop              30000.0      3.0  Bangalore   2021-04-01\n",
      "33         1085  Smartphone                  NaN      2.0       Pune   2021-04-16\n",
      "34         1016     Desktop              45000.0      3.0      Delhi   2023-08-19\n",
      "35         1070      Laptop              45000.0      NaN      Delhi   2023-04-21\n",
      "36         1088      Tablet              45000.0      4.0    Chennai   2023-09-18\n",
      "37         1044      Laptop              45000.0      NaN  Bangalore   2023-05-21\n",
      "38         1003      Tablet              15000.0      2.0      Delhi   2023-12-02\n",
      "39         1035     Desktop              45000.0      4.0       Pune   2023-03-07\n",
      "40         1069  Smartphone              60000.0      3.0       Pune   2023-09-18\n",
      "41         1030      Laptop              60000.0      4.0      Delhi   2023-01-21\n",
      "42         1018  Smartphone              15000.0      1.0  Bangalore   2021-04-16\n",
      "43         1060      Laptop              45000.0      4.0       Pune   2022-05-11\n",
      "44         1053      Tablet              45000.0      1.0    Chennai   2022-05-26\n",
      "45         1038  Smartphone              45000.0      4.0       Pune   2022-04-11\n",
      "46         1090      Laptop                  NaN      1.0     Mumbai   2022-11-07\n",
      "47         1073      Tablet              30000.0      2.0     Mumbai   2021-08-14\n",
      "48         1089  Smartphone                  NaN      NaN  Bangalore   2023-10-03\n",
      "49         1018  Smartphone              30000.0      3.0      Delhi   2022-06-25\n",
      "50         1038      Laptop              45000.0      4.0  Bangalore   2023-03-07\n",
      "51         1066      Laptop              45000.0      NaN  Bangalore   2021-07-15\n",
      "52         1044      Laptop                  NaN      3.0  Bangalore   2023-03-22\n",
      "53         1012      Tablet                  NaN      3.0  Bangalore   2022-12-07\n",
      "54         1091      Laptop              30000.0      1.0    Chennai   2021-04-01\n",
      "55         1057  Smartphone              60000.0      2.0    Chennai   2021-04-01\n",
      "56         1019  Smartphone              30000.0      2.0       Pune   2022-04-26\n",
      "57         1091      Laptop                  NaN      NaN     Mumbai   2021-11-27\n",
      "58         1071      Laptop                  NaN      2.0  Bangalore   2021-09-28\n",
      "59         1060     Desktop              15000.0      4.0       Pune   2021-09-28\n",
      "60         1038  Smartphone                  NaN      2.0     Mumbai   2022-06-10\n",
      "61         1000      Tablet              15000.0      NaN      Delhi   2022-02-25\n",
      "62         1002     Desktop              60000.0      2.0    Chennai   2023-06-05\n",
      "63         1076      Laptop              30000.0      4.0     Mumbai   2021-01-16\n",
      "64         1091      Laptop              30000.0      1.0      Delhi   2021-01-01\n",
      "65         1061  Smartphone              15000.0      NaN     Mumbai   2022-11-22\n",
      "66         1062      Laptop              30000.0      1.0    Chennai   2023-10-18\n",
      "67         1024      Tablet                  NaN      1.0    Chennai   2021-10-13\n",
      "68         1055  Smartphone              45000.0      1.0       Pune   2021-05-31\n",
      "69         1032      Laptop              15000.0      3.0  Bangalore   2021-01-16\n",
      "70         1037  Smartphone              30000.0      3.0     Mumbai   2023-09-18\n",
      "71         1005      Laptop              15000.0      1.0     Mumbai   2021-06-15\n",
      "72         1057      Laptop              15000.0      NaN      Delhi   2021-10-13\n",
      "73         1043      Laptop              45000.0      4.0    Chennai   2021-03-02\n",
      "74         1044      Tablet                  NaN      4.0     Mumbai   2022-06-25\n",
      "75         1031      Tablet              15000.0      2.0    Chennai   2022-07-10\n",
      "76         1044  Smartphone              30000.0      NaN     Mumbai   2021-05-01\n",
      "77         1060      Laptop              60000.0      3.0       Pune   2023-02-20\n",
      "78         1046      Laptop              15000.0      1.0  Bangalore   2022-10-08\n",
      "79         1020      Tablet              15000.0      2.0     Mumbai   2021-12-12\n",
      "80         1079      Laptop              45000.0      4.0    Chennai   2022-03-12\n",
      "81         1084      Tablet                  NaN      3.0       Pune   2023-05-21\n",
      "82         1074      Laptop              60000.0      3.0     Mumbai   2021-07-15\n",
      "83         1035  Smartphone              30000.0      1.0      Delhi   2021-05-01\n",
      "84         1098      Laptop              60000.0      4.0  Bangalore   2022-08-09\n",
      "85         1018      Laptop              30000.0      NaN     Mumbai   2023-09-03\n",
      "86         1019     Desktop                  NaN      3.0       Pune   2021-12-27\n",
      "87         1056      Tablet              30000.0      1.0      Delhi   2023-12-17\n",
      "88         1017      Laptop              45000.0      NaN       Pune   2021-11-12\n",
      "89         1046      Laptop              45000.0      4.0       Pune   2021-02-15\n",
      "90         1048     Desktop              45000.0      3.0      Delhi   2022-01-11\n",
      "91         1013     Desktop              45000.0      NaN       Pune   2023-05-06\n",
      "92         1014      Tablet              60000.0      NaN      Delhi   2022-02-25\n",
      "93         1030     Desktop                  NaN      NaN     Mumbai   2022-06-25\n",
      "94         1000  Smartphone              30000.0      3.0      Delhi   2023-11-02\n",
      "95         1053     Desktop              30000.0      3.0      Delhi   2021-09-13\n",
      "96         1002  Smartphone              45000.0      2.0  Bangalore   2022-09-08\n",
      "97         1015      Tablet              45000.0      4.0      Delhi   2022-08-24\n",
      "98         1086      Tablet              15000.0      1.0      Delhi   2022-07-10\n",
      "99         1056      Tablet                  NaN      NaN     Mumbai   2022-05-11\n",
      "100        1074      Tablet              60000.0      2.0  Bangalore   2021-08-29\n",
      "101        1011      Tablet              30000.0      1.0    Chennai   2022-06-25\n",
      "102        1073  Smartphone              15000.0      2.0     Mumbai   2021-12-27\n",
      "103        1095  Smartphone              15000.0      3.0     Mumbai   2022-01-26\n",
      "104        1015      Tablet              30000.0      NaN    Chennai   2023-04-21\n",
      "105        1071     Desktop              60000.0      1.0      Delhi   2022-03-27\n",
      "106        1075      Laptop              15000.0      1.0       Pune   2021-03-17\n",
      "107        1023      Tablet              15000.0      1.0  Bangalore   2022-08-09\n",
      "108        1027     Desktop                  NaN      1.0       Pune   2021-06-15\n",
      "109        1007      Laptop              60000.0      1.0    Chennai   2023-02-20\n",
      "110        1091      Tablet              15000.0      2.0     Mumbai   2023-11-17\n",
      "111        1035      Tablet              60000.0      NaN     Mumbai   2021-05-16\n",
      "112        1089  Smartphone              30000.0      3.0  Bangalore   2022-10-23\n",
      "113        1007      Laptop              45000.0      3.0     Mumbai   2021-08-29\n",
      "114        1057      Laptop              15000.0      3.0     Mumbai   2022-01-11\n",
      "115        1059     Desktop                  NaN      3.0  Bangalore   2023-07-05\n",
      "116        1049  Smartphone              30000.0      2.0  Bangalore   2022-11-07\n",
      "117        1027  Smartphone              60000.0      4.0    Chennai   2023-08-04\n",
      "118        1091  Smartphone              30000.0      NaN     Mumbai   2021-01-16\n",
      "119        1040  Smartphone              15000.0      1.0     Mumbai   2023-03-07\n",
      "120        1074      Laptop              45000.0      NaN  Bangalore   2021-08-14\n",
      "121        1017     Desktop              45000.0      NaN       Pune   2022-08-09\n",
      "122        1075     Desktop              30000.0      1.0       Pune   2021-09-28\n",
      "123        1008      Laptop              60000.0      1.0    Chennai   2021-09-13\n",
      "124        1073      Laptop              15000.0      NaN      Delhi   2021-01-01\n"
     ]
    }
   ],
   "source": [
    "# import dataset\n",
    "ds=pd.read_csv(\"product_data.csv\")\n",
    "print(ds.to_string())"
   ]
  },
  {
   "cell_type": "code",
   "execution_count": 3,
   "id": "4849509c-6ea5-405c-b7e9-13e7ca06efb9",
   "metadata": {},
   "outputs": [
    {
     "name": "stdout",
     "output_type": "stream",
     "text": [
      "<class 'pandas.core.frame.DataFrame'>\n",
      "RangeIndex: 125 entries, 0 to 124\n",
      "Data columns (total 6 columns):\n",
      " #   Column        Non-Null Count  Dtype \n",
      "---  ------        --------------  ----- \n",
      " 0   CustomerID    125 non-null    int64 \n",
      " 1   Product       125 non-null    object\n",
      " 2   Price         103 non-null    object\n",
      " 3   Quantity      98 non-null     object\n",
      " 4   City          125 non-null    object\n",
      " 5   PurchaseDate  125 non-null    object\n",
      "dtypes: int64(1), object(5)\n",
      "memory usage: 6.0+ KB\n"
     ]
    }
   ],
   "source": [
    "ds.info()"
   ]
  },
  {
   "cell_type": "code",
   "execution_count": 4,
   "id": "0f13bdc4-dea7-4daa-98a3-b4eaba39161f",
   "metadata": {},
   "outputs": [
    {
     "data": {
      "text/html": [
       "<div>\n",
       "<style scoped>\n",
       "    .dataframe tbody tr th:only-of-type {\n",
       "        vertical-align: middle;\n",
       "    }\n",
       "\n",
       "    .dataframe tbody tr th {\n",
       "        vertical-align: top;\n",
       "    }\n",
       "\n",
       "    .dataframe thead th {\n",
       "        text-align: right;\n",
       "    }\n",
       "</style>\n",
       "<table border=\"1\" class=\"dataframe\">\n",
       "  <thead>\n",
       "    <tr style=\"text-align: right;\">\n",
       "      <th></th>\n",
       "      <th>CustomerID</th>\n",
       "    </tr>\n",
       "  </thead>\n",
       "  <tbody>\n",
       "    <tr>\n",
       "      <th>count</th>\n",
       "      <td>125.000000</td>\n",
       "    </tr>\n",
       "    <tr>\n",
       "      <th>mean</th>\n",
       "      <td>1045.936000</td>\n",
       "    </tr>\n",
       "    <tr>\n",
       "      <th>std</th>\n",
       "      <td>28.183942</td>\n",
       "    </tr>\n",
       "    <tr>\n",
       "      <th>min</th>\n",
       "      <td>1000.000000</td>\n",
       "    </tr>\n",
       "    <tr>\n",
       "      <th>25%</th>\n",
       "      <td>1019.000000</td>\n",
       "    </tr>\n",
       "    <tr>\n",
       "      <th>50%</th>\n",
       "      <td>1044.000000</td>\n",
       "    </tr>\n",
       "    <tr>\n",
       "      <th>75%</th>\n",
       "      <td>1071.000000</td>\n",
       "    </tr>\n",
       "    <tr>\n",
       "      <th>max</th>\n",
       "      <td>1098.000000</td>\n",
       "    </tr>\n",
       "  </tbody>\n",
       "</table>\n",
       "</div>"
      ],
      "text/plain": [
       "        CustomerID\n",
       "count   125.000000\n",
       "mean   1045.936000\n",
       "std      28.183942\n",
       "min    1000.000000\n",
       "25%    1019.000000\n",
       "50%    1044.000000\n",
       "75%    1071.000000\n",
       "max    1098.000000"
      ]
     },
     "execution_count": 4,
     "metadata": {},
     "output_type": "execute_result"
    }
   ],
   "source": [
    "ds.describe()"
   ]
  },
  {
   "cell_type": "code",
   "execution_count": 5,
   "id": "2f8c717f-20cf-49e7-8072-5c84c20285d0",
   "metadata": {},
   "outputs": [
    {
     "data": {
      "text/plain": [
       "5"
      ]
     },
     "execution_count": 5,
     "metadata": {},
     "output_type": "execute_result"
    }
   ],
   "source": [
    "# Remove duplicates\n",
    "# no of duplicates\n",
    "ds.duplicated().sum()"
   ]
  },
  {
   "cell_type": "code",
   "execution_count": 6,
   "id": "82d9e0da-12d6-4148-b265-c5b283b8e735",
   "metadata": {},
   "outputs": [],
   "source": [
    "# Remove duplicates\n",
    "ds.drop_duplicates(inplace=True)"
   ]
  },
  {
   "cell_type": "code",
   "execution_count": 7,
   "id": "3a9b299d-5ee1-4555-b6ed-9a5fc7acecbb",
   "metadata": {},
   "outputs": [
    {
     "data": {
      "text/plain": [
       "0"
      ]
     },
     "execution_count": 7,
     "metadata": {},
     "output_type": "execute_result"
    }
   ],
   "source": [
    "ds.duplicated().sum()"
   ]
  },
  {
   "cell_type": "code",
   "execution_count": 8,
   "id": "a8050773-2459-431f-a89d-e1fc92f2d2f2",
   "metadata": {},
   "outputs": [
    {
     "data": {
      "text/plain": [
       "array(['Desktop', 'Smartphone', 'Tablet', 'Laptop'], dtype=object)"
      ]
     },
     "execution_count": 8,
     "metadata": {},
     "output_type": "execute_result"
    }
   ],
   "source": [
    "ds[\"Product\"].unique()"
   ]
  },
  {
   "cell_type": "code",
   "execution_count": 9,
   "id": "b936a1a4-3f23-443f-ab31-a334beeb1d4b",
   "metadata": {},
   "outputs": [],
   "source": [
    "# Handling Price column\n",
    "# convert to correct datatype\n",
    "ds[\"Price\"]=pd.to_numeric(ds[\"Price\"],errors='coerce')"
   ]
  },
  {
   "cell_type": "code",
   "execution_count": 10,
   "id": "7a3a392b-7b7f-407d-a52c-cd3925bd2758",
   "metadata": {},
   "outputs": [
    {
     "name": "stdout",
     "output_type": "stream",
     "text": [
      "<class 'pandas.core.frame.DataFrame'>\n",
      "Index: 120 entries, 0 to 119\n",
      "Data columns (total 6 columns):\n",
      " #   Column        Non-Null Count  Dtype  \n",
      "---  ------        --------------  -----  \n",
      " 0   CustomerID    120 non-null    int64  \n",
      " 1   Product       120 non-null    object \n",
      " 2   Price         97 non-null     float64\n",
      " 3   Quantity      96 non-null     object \n",
      " 4   City          120 non-null    object \n",
      " 5   PurchaseDate  120 non-null    object \n",
      "dtypes: float64(1), int64(1), object(4)\n",
      "memory usage: 6.6+ KB\n"
     ]
    }
   ],
   "source": [
    "ds.info()"
   ]
  },
  {
   "cell_type": "code",
   "execution_count": 11,
   "id": "b1617e92-d8e6-4e6e-8555-1704ac3f9ec9",
   "metadata": {},
   "outputs": [
    {
     "name": "stdout",
     "output_type": "stream",
     "text": [
      "30000.0\n"
     ]
    }
   ],
   "source": [
    "x=ds[\"Price\"].median()\n",
    "print(x)\n",
    "ds[\"Price\"].fillna(x,inplace=True) # Missing Price values fill with median value 30000.0"
   ]
  },
  {
   "cell_type": "code",
   "execution_count": 12,
   "id": "4d644e9b-7d6e-4085-a52b-5df006477d0e",
   "metadata": {},
   "outputs": [
    {
     "name": "stdout",
     "output_type": "stream",
     "text": [
      "<class 'pandas.core.frame.DataFrame'>\n",
      "Index: 120 entries, 0 to 119\n",
      "Data columns (total 6 columns):\n",
      " #   Column        Non-Null Count  Dtype  \n",
      "---  ------        --------------  -----  \n",
      " 0   CustomerID    120 non-null    int64  \n",
      " 1   Product       120 non-null    object \n",
      " 2   Price         120 non-null    float64\n",
      " 3   Quantity      96 non-null     object \n",
      " 4   City          120 non-null    object \n",
      " 5   PurchaseDate  120 non-null    object \n",
      "dtypes: float64(1), int64(1), object(4)\n",
      "memory usage: 6.6+ KB\n"
     ]
    }
   ],
   "source": [
    "ds.info()"
   ]
  },
  {
   "cell_type": "code",
   "execution_count": 13,
   "id": "58ac9673-4910-4742-bf55-44d4540f3833",
   "metadata": {},
   "outputs": [
    {
     "name": "stdout",
     "output_type": "stream",
     "text": [
      "     CustomerID     Product    Price Quantity       City PurchaseDate\n",
      "0          1052     Desktop  30000.0      4.0  Bangalore   2021-06-30\n",
      "1          1041     Desktop  30000.0      3.0      Delhi   2023-01-21\n",
      "2          1057  Smartphone  30000.0      2.0  Bangalore   2023-04-06\n",
      "3          1038      Tablet  45000.0      1.0    Chennai   2023-07-05\n",
      "4          1013  Smartphone  45000.0      NaN     Mumbai   2022-04-11\n",
      "5          1094      Laptop  60000.0      two     Mumbai   2022-03-12\n",
      "6          1004      Laptop  30000.0      2.0    Chennai   2022-02-25\n",
      "7          1034      Laptop  30000.0      2.0    Chennai   2022-12-22\n",
      "8          1086      Laptop  30000.0      3.0      Delhi   2022-10-23\n",
      "9          1092     Desktop  30000.0      3.0     Mumbai   2022-03-12\n",
      "10         1074      Laptop  45000.0      NaN  Bangalore   2021-08-14\n",
      "11         1017     Desktop  45000.0      NaN       Pune   2022-08-09\n",
      "12         1075     Desktop  30000.0      1.0       Pune   2021-09-28\n",
      "13         1008      Laptop  60000.0      1.0    Chennai   2021-09-13\n",
      "14         1073      Laptop  15000.0      NaN      Delhi   2021-01-01\n",
      "15         1057      Tablet  15000.0      NaN       Pune   2022-11-22\n",
      "16         1016  Smartphone  60000.0      4.0     Mumbai   2023-09-03\n",
      "17         1006      Laptop  30000.0      3.0    Chennai   2022-07-10\n",
      "18         1045      Tablet  45000.0      1.0  Bangalore   2023-01-21\n",
      "19         1012      Tablet  15000.0      3.0    Chennai   2023-07-20\n",
      "20         1039  Smartphone  30000.0      3.0  Bangalore   2021-02-15\n",
      "21         1041     Desktop  30000.0      NaN    Chennai   2021-01-01\n",
      "22         1008      Laptop  60000.0      4.0    Chennai   2021-04-16\n",
      "23         1049  Smartphone  30000.0      2.0    Chennai   2022-02-25\n",
      "24         1026      Laptop  15000.0      4.0  Bangalore   2023-03-22\n",
      "25         1065      Tablet  30000.0      4.0  Bangalore   2021-01-31\n",
      "26         1004      Tablet  15000.0      3.0    Chennai   2022-04-11\n",
      "27         1028     Desktop  60000.0      4.0       Pune   2021-05-16\n",
      "28         1036      Tablet  60000.0      1.0      Delhi   2022-05-11\n",
      "29         1037      Tablet  30000.0      3.0      Delhi   2023-03-22\n",
      "30         1082  Smartphone  30000.0      1.0      Delhi   2022-04-11\n",
      "31         1007      Laptop  30000.0      2.0  Bangalore   2023-01-06\n",
      "32         1064      Laptop  30000.0      3.0  Bangalore   2021-04-01\n",
      "33         1085  Smartphone  30000.0      2.0       Pune   2021-04-16\n",
      "34         1016     Desktop  45000.0      3.0      Delhi   2023-08-19\n",
      "35         1070      Laptop  45000.0      NaN      Delhi   2023-04-21\n",
      "36         1088      Tablet  45000.0      4.0    Chennai   2023-09-18\n",
      "37         1044      Laptop  45000.0      NaN  Bangalore   2023-05-21\n",
      "38         1003      Tablet  15000.0      2.0      Delhi   2023-12-02\n",
      "39         1035     Desktop  45000.0      4.0       Pune   2023-03-07\n",
      "40         1069  Smartphone  60000.0      3.0       Pune   2023-09-18\n",
      "41         1030      Laptop  60000.0      4.0      Delhi   2023-01-21\n",
      "42         1018  Smartphone  15000.0      1.0  Bangalore   2021-04-16\n",
      "43         1060      Laptop  45000.0      4.0       Pune   2022-05-11\n",
      "44         1053      Tablet  45000.0      1.0    Chennai   2022-05-26\n",
      "45         1038  Smartphone  45000.0      4.0       Pune   2022-04-11\n",
      "46         1090      Laptop  30000.0      1.0     Mumbai   2022-11-07\n",
      "47         1073      Tablet  30000.0      2.0     Mumbai   2021-08-14\n",
      "48         1089  Smartphone  30000.0      NaN  Bangalore   2023-10-03\n",
      "49         1018  Smartphone  30000.0      3.0      Delhi   2022-06-25\n",
      "50         1038      Laptop  45000.0      4.0  Bangalore   2023-03-07\n",
      "51         1066      Laptop  45000.0      NaN  Bangalore   2021-07-15\n",
      "52         1044      Laptop  30000.0      3.0  Bangalore   2023-03-22\n",
      "53         1012      Tablet  30000.0      3.0  Bangalore   2022-12-07\n",
      "54         1091      Laptop  30000.0      1.0    Chennai   2021-04-01\n",
      "55         1057  Smartphone  60000.0      2.0    Chennai   2021-04-01\n",
      "56         1019  Smartphone  30000.0      2.0       Pune   2022-04-26\n",
      "57         1091      Laptop  30000.0      NaN     Mumbai   2021-11-27\n",
      "58         1071      Laptop  30000.0      2.0  Bangalore   2021-09-28\n",
      "59         1060     Desktop  15000.0      4.0       Pune   2021-09-28\n",
      "60         1038  Smartphone  30000.0      2.0     Mumbai   2022-06-10\n",
      "61         1000      Tablet  15000.0      NaN      Delhi   2022-02-25\n",
      "62         1002     Desktop  60000.0      2.0    Chennai   2023-06-05\n",
      "63         1076      Laptop  30000.0      4.0     Mumbai   2021-01-16\n",
      "64         1091      Laptop  30000.0      1.0      Delhi   2021-01-01\n",
      "65         1061  Smartphone  15000.0      NaN     Mumbai   2022-11-22\n",
      "66         1062      Laptop  30000.0      1.0    Chennai   2023-10-18\n",
      "67         1024      Tablet  30000.0      1.0    Chennai   2021-10-13\n",
      "68         1055  Smartphone  45000.0      1.0       Pune   2021-05-31\n",
      "69         1032      Laptop  15000.0      3.0  Bangalore   2021-01-16\n",
      "70         1037  Smartphone  30000.0      3.0     Mumbai   2023-09-18\n",
      "71         1005      Laptop  15000.0      1.0     Mumbai   2021-06-15\n",
      "72         1057      Laptop  15000.0      NaN      Delhi   2021-10-13\n",
      "73         1043      Laptop  45000.0      4.0    Chennai   2021-03-02\n",
      "74         1044      Tablet  30000.0      4.0     Mumbai   2022-06-25\n",
      "75         1031      Tablet  15000.0      2.0    Chennai   2022-07-10\n",
      "76         1044  Smartphone  30000.0      NaN     Mumbai   2021-05-01\n",
      "77         1060      Laptop  60000.0      3.0       Pune   2023-02-20\n",
      "78         1046      Laptop  15000.0      1.0  Bangalore   2022-10-08\n",
      "79         1020      Tablet  15000.0      2.0     Mumbai   2021-12-12\n",
      "80         1079      Laptop  45000.0      4.0    Chennai   2022-03-12\n",
      "81         1084      Tablet  30000.0      3.0       Pune   2023-05-21\n",
      "82         1074      Laptop  60000.0      3.0     Mumbai   2021-07-15\n",
      "83         1035  Smartphone  30000.0      1.0      Delhi   2021-05-01\n",
      "84         1098      Laptop  60000.0      4.0  Bangalore   2022-08-09\n",
      "85         1018      Laptop  30000.0      NaN     Mumbai   2023-09-03\n",
      "86         1019     Desktop  30000.0      3.0       Pune   2021-12-27\n",
      "87         1056      Tablet  30000.0      1.0      Delhi   2023-12-17\n",
      "88         1017      Laptop  45000.0      NaN       Pune   2021-11-12\n",
      "89         1046      Laptop  45000.0      4.0       Pune   2021-02-15\n",
      "90         1048     Desktop  45000.0      3.0      Delhi   2022-01-11\n",
      "91         1013     Desktop  45000.0      NaN       Pune   2023-05-06\n",
      "92         1014      Tablet  60000.0      NaN      Delhi   2022-02-25\n",
      "93         1030     Desktop  30000.0      NaN     Mumbai   2022-06-25\n",
      "94         1000  Smartphone  30000.0      3.0      Delhi   2023-11-02\n",
      "95         1053     Desktop  30000.0      3.0      Delhi   2021-09-13\n",
      "96         1002  Smartphone  45000.0      2.0  Bangalore   2022-09-08\n",
      "97         1015      Tablet  45000.0      4.0      Delhi   2022-08-24\n",
      "98         1086      Tablet  15000.0      1.0      Delhi   2022-07-10\n",
      "99         1056      Tablet  30000.0      NaN     Mumbai   2022-05-11\n",
      "100        1074      Tablet  60000.0      2.0  Bangalore   2021-08-29\n",
      "101        1011      Tablet  30000.0      1.0    Chennai   2022-06-25\n",
      "102        1073  Smartphone  15000.0      2.0     Mumbai   2021-12-27\n",
      "103        1095  Smartphone  15000.0      3.0     Mumbai   2022-01-26\n",
      "104        1015      Tablet  30000.0      NaN    Chennai   2023-04-21\n",
      "105        1071     Desktop  60000.0      1.0      Delhi   2022-03-27\n",
      "106        1075      Laptop  15000.0      1.0       Pune   2021-03-17\n",
      "107        1023      Tablet  15000.0      1.0  Bangalore   2022-08-09\n",
      "108        1027     Desktop  30000.0      1.0       Pune   2021-06-15\n",
      "109        1007      Laptop  60000.0      1.0    Chennai   2023-02-20\n",
      "110        1091      Tablet  15000.0      2.0     Mumbai   2023-11-17\n",
      "111        1035      Tablet  60000.0      NaN     Mumbai   2021-05-16\n",
      "112        1089  Smartphone  30000.0      3.0  Bangalore   2022-10-23\n",
      "113        1007      Laptop  45000.0      3.0     Mumbai   2021-08-29\n",
      "114        1057      Laptop  15000.0      3.0     Mumbai   2022-01-11\n",
      "115        1059     Desktop  30000.0      3.0  Bangalore   2023-07-05\n",
      "116        1049  Smartphone  30000.0      2.0  Bangalore   2022-11-07\n",
      "117        1027  Smartphone  60000.0      4.0    Chennai   2023-08-04\n",
      "118        1091  Smartphone  30000.0      NaN     Mumbai   2021-01-16\n",
      "119        1040  Smartphone  15000.0      1.0     Mumbai   2023-03-07\n"
     ]
    }
   ],
   "source": [
    "print(ds.to_string())"
   ]
  },
  {
   "cell_type": "code",
   "execution_count": 14,
   "id": "8aca5e61-e2b6-4130-bdf1-a1cdaeccf4e1",
   "metadata": {},
   "outputs": [
    {
     "data": {
      "text/plain": [
       "Index(['CustomerID', 'Product', 'Price', 'Quantity', 'City', 'PurchaseDate'], dtype='object')"
      ]
     },
     "execution_count": 14,
     "metadata": {},
     "output_type": "execute_result"
    }
   ],
   "source": [
    "ds.columns"
   ]
  },
  {
   "cell_type": "code",
   "execution_count": 15,
   "id": "56659f98-d885-45c3-a119-5ba29274117a",
   "metadata": {},
   "outputs": [],
   "source": [
    "# Handling Quantity column\n",
    "# convert to correct datatype\n",
    "ds[\"Quantity\"]=pd.to_numeric(ds[\"Quantity\"],errors='coerce')"
   ]
  },
  {
   "cell_type": "code",
   "execution_count": 16,
   "id": "ae726652-9dd3-4150-8860-b56dfdbd9650",
   "metadata": {},
   "outputs": [
    {
     "name": "stdout",
     "output_type": "stream",
     "text": [
      "<class 'pandas.core.frame.DataFrame'>\n",
      "Index: 120 entries, 0 to 119\n",
      "Data columns (total 6 columns):\n",
      " #   Column        Non-Null Count  Dtype  \n",
      "---  ------        --------------  -----  \n",
      " 0   CustomerID    120 non-null    int64  \n",
      " 1   Product       120 non-null    object \n",
      " 2   Price         120 non-null    float64\n",
      " 3   Quantity      95 non-null     float64\n",
      " 4   City          120 non-null    object \n",
      " 5   PurchaseDate  120 non-null    object \n",
      "dtypes: float64(2), int64(1), object(3)\n",
      "memory usage: 6.6+ KB\n"
     ]
    }
   ],
   "source": [
    "ds.info()"
   ]
  },
  {
   "cell_type": "code",
   "execution_count": 17,
   "id": "6190906a-4313-4c57-8881-4578428de352",
   "metadata": {},
   "outputs": [
    {
     "name": "stdout",
     "output_type": "stream",
     "text": [
      "3.0\n"
     ]
    }
   ],
   "source": [
    "# fill missing values of Quantity\n",
    "x=ds[\"Quantity\"].median()\n",
    "print(x)\n",
    "ds[\"Quantity\"].fillna(x,inplace=True) # missing Qunatity values fill with median 3.0"
   ]
  },
  {
   "cell_type": "code",
   "execution_count": 18,
   "id": "03e20fa2-120f-4ff3-8097-00188a8af26a",
   "metadata": {},
   "outputs": [
    {
     "name": "stdout",
     "output_type": "stream",
     "text": [
      "<class 'pandas.core.frame.DataFrame'>\n",
      "Index: 120 entries, 0 to 119\n",
      "Data columns (total 6 columns):\n",
      " #   Column        Non-Null Count  Dtype  \n",
      "---  ------        --------------  -----  \n",
      " 0   CustomerID    120 non-null    int64  \n",
      " 1   Product       120 non-null    object \n",
      " 2   Price         120 non-null    float64\n",
      " 3   Quantity      120 non-null    float64\n",
      " 4   City          120 non-null    object \n",
      " 5   PurchaseDate  120 non-null    object \n",
      "dtypes: float64(2), int64(1), object(3)\n",
      "memory usage: 6.6+ KB\n"
     ]
    }
   ],
   "source": [
    "ds.info()"
   ]
  },
  {
   "cell_type": "code",
   "execution_count": 19,
   "id": "5adfafde-8f26-4295-8560-03f6df6573fd",
   "metadata": {},
   "outputs": [
    {
     "name": "stdout",
     "output_type": "stream",
     "text": [
      "     CustomerID     Product    Price  Quantity       City PurchaseDate\n",
      "0          1052     Desktop  30000.0       4.0  Bangalore   2021-06-30\n",
      "1          1041     Desktop  30000.0       3.0      Delhi   2023-01-21\n",
      "2          1057  Smartphone  30000.0       2.0  Bangalore   2023-04-06\n",
      "3          1038      Tablet  45000.0       1.0    Chennai   2023-07-05\n",
      "4          1013  Smartphone  45000.0       3.0     Mumbai   2022-04-11\n",
      "5          1094      Laptop  60000.0       3.0     Mumbai   2022-03-12\n",
      "6          1004      Laptop  30000.0       2.0    Chennai   2022-02-25\n",
      "7          1034      Laptop  30000.0       2.0    Chennai   2022-12-22\n",
      "8          1086      Laptop  30000.0       3.0      Delhi   2022-10-23\n",
      "9          1092     Desktop  30000.0       3.0     Mumbai   2022-03-12\n",
      "10         1074      Laptop  45000.0       3.0  Bangalore   2021-08-14\n",
      "11         1017     Desktop  45000.0       3.0       Pune   2022-08-09\n",
      "12         1075     Desktop  30000.0       1.0       Pune   2021-09-28\n",
      "13         1008      Laptop  60000.0       1.0    Chennai   2021-09-13\n",
      "14         1073      Laptop  15000.0       3.0      Delhi   2021-01-01\n",
      "15         1057      Tablet  15000.0       3.0       Pune   2022-11-22\n",
      "16         1016  Smartphone  60000.0       4.0     Mumbai   2023-09-03\n",
      "17         1006      Laptop  30000.0       3.0    Chennai   2022-07-10\n",
      "18         1045      Tablet  45000.0       1.0  Bangalore   2023-01-21\n",
      "19         1012      Tablet  15000.0       3.0    Chennai   2023-07-20\n",
      "20         1039  Smartphone  30000.0       3.0  Bangalore   2021-02-15\n",
      "21         1041     Desktop  30000.0       3.0    Chennai   2021-01-01\n",
      "22         1008      Laptop  60000.0       4.0    Chennai   2021-04-16\n",
      "23         1049  Smartphone  30000.0       2.0    Chennai   2022-02-25\n",
      "24         1026      Laptop  15000.0       4.0  Bangalore   2023-03-22\n",
      "25         1065      Tablet  30000.0       4.0  Bangalore   2021-01-31\n",
      "26         1004      Tablet  15000.0       3.0    Chennai   2022-04-11\n",
      "27         1028     Desktop  60000.0       4.0       Pune   2021-05-16\n",
      "28         1036      Tablet  60000.0       1.0      Delhi   2022-05-11\n",
      "29         1037      Tablet  30000.0       3.0      Delhi   2023-03-22\n",
      "30         1082  Smartphone  30000.0       1.0      Delhi   2022-04-11\n",
      "31         1007      Laptop  30000.0       2.0  Bangalore   2023-01-06\n",
      "32         1064      Laptop  30000.0       3.0  Bangalore   2021-04-01\n",
      "33         1085  Smartphone  30000.0       2.0       Pune   2021-04-16\n",
      "34         1016     Desktop  45000.0       3.0      Delhi   2023-08-19\n",
      "35         1070      Laptop  45000.0       3.0      Delhi   2023-04-21\n",
      "36         1088      Tablet  45000.0       4.0    Chennai   2023-09-18\n",
      "37         1044      Laptop  45000.0       3.0  Bangalore   2023-05-21\n",
      "38         1003      Tablet  15000.0       2.0      Delhi   2023-12-02\n",
      "39         1035     Desktop  45000.0       4.0       Pune   2023-03-07\n",
      "40         1069  Smartphone  60000.0       3.0       Pune   2023-09-18\n",
      "41         1030      Laptop  60000.0       4.0      Delhi   2023-01-21\n",
      "42         1018  Smartphone  15000.0       1.0  Bangalore   2021-04-16\n",
      "43         1060      Laptop  45000.0       4.0       Pune   2022-05-11\n",
      "44         1053      Tablet  45000.0       1.0    Chennai   2022-05-26\n",
      "45         1038  Smartphone  45000.0       4.0       Pune   2022-04-11\n",
      "46         1090      Laptop  30000.0       1.0     Mumbai   2022-11-07\n",
      "47         1073      Tablet  30000.0       2.0     Mumbai   2021-08-14\n",
      "48         1089  Smartphone  30000.0       3.0  Bangalore   2023-10-03\n",
      "49         1018  Smartphone  30000.0       3.0      Delhi   2022-06-25\n",
      "50         1038      Laptop  45000.0       4.0  Bangalore   2023-03-07\n",
      "51         1066      Laptop  45000.0       3.0  Bangalore   2021-07-15\n",
      "52         1044      Laptop  30000.0       3.0  Bangalore   2023-03-22\n",
      "53         1012      Tablet  30000.0       3.0  Bangalore   2022-12-07\n",
      "54         1091      Laptop  30000.0       1.0    Chennai   2021-04-01\n",
      "55         1057  Smartphone  60000.0       2.0    Chennai   2021-04-01\n",
      "56         1019  Smartphone  30000.0       2.0       Pune   2022-04-26\n",
      "57         1091      Laptop  30000.0       3.0     Mumbai   2021-11-27\n",
      "58         1071      Laptop  30000.0       2.0  Bangalore   2021-09-28\n",
      "59         1060     Desktop  15000.0       4.0       Pune   2021-09-28\n",
      "60         1038  Smartphone  30000.0       2.0     Mumbai   2022-06-10\n",
      "61         1000      Tablet  15000.0       3.0      Delhi   2022-02-25\n",
      "62         1002     Desktop  60000.0       2.0    Chennai   2023-06-05\n",
      "63         1076      Laptop  30000.0       4.0     Mumbai   2021-01-16\n",
      "64         1091      Laptop  30000.0       1.0      Delhi   2021-01-01\n",
      "65         1061  Smartphone  15000.0       3.0     Mumbai   2022-11-22\n",
      "66         1062      Laptop  30000.0       1.0    Chennai   2023-10-18\n",
      "67         1024      Tablet  30000.0       1.0    Chennai   2021-10-13\n",
      "68         1055  Smartphone  45000.0       1.0       Pune   2021-05-31\n",
      "69         1032      Laptop  15000.0       3.0  Bangalore   2021-01-16\n",
      "70         1037  Smartphone  30000.0       3.0     Mumbai   2023-09-18\n",
      "71         1005      Laptop  15000.0       1.0     Mumbai   2021-06-15\n",
      "72         1057      Laptop  15000.0       3.0      Delhi   2021-10-13\n",
      "73         1043      Laptop  45000.0       4.0    Chennai   2021-03-02\n",
      "74         1044      Tablet  30000.0       4.0     Mumbai   2022-06-25\n",
      "75         1031      Tablet  15000.0       2.0    Chennai   2022-07-10\n",
      "76         1044  Smartphone  30000.0       3.0     Mumbai   2021-05-01\n",
      "77         1060      Laptop  60000.0       3.0       Pune   2023-02-20\n",
      "78         1046      Laptop  15000.0       1.0  Bangalore   2022-10-08\n",
      "79         1020      Tablet  15000.0       2.0     Mumbai   2021-12-12\n",
      "80         1079      Laptop  45000.0       4.0    Chennai   2022-03-12\n",
      "81         1084      Tablet  30000.0       3.0       Pune   2023-05-21\n",
      "82         1074      Laptop  60000.0       3.0     Mumbai   2021-07-15\n",
      "83         1035  Smartphone  30000.0       1.0      Delhi   2021-05-01\n",
      "84         1098      Laptop  60000.0       4.0  Bangalore   2022-08-09\n",
      "85         1018      Laptop  30000.0       3.0     Mumbai   2023-09-03\n",
      "86         1019     Desktop  30000.0       3.0       Pune   2021-12-27\n",
      "87         1056      Tablet  30000.0       1.0      Delhi   2023-12-17\n",
      "88         1017      Laptop  45000.0       3.0       Pune   2021-11-12\n",
      "89         1046      Laptop  45000.0       4.0       Pune   2021-02-15\n",
      "90         1048     Desktop  45000.0       3.0      Delhi   2022-01-11\n",
      "91         1013     Desktop  45000.0       3.0       Pune   2023-05-06\n",
      "92         1014      Tablet  60000.0       3.0      Delhi   2022-02-25\n",
      "93         1030     Desktop  30000.0       3.0     Mumbai   2022-06-25\n",
      "94         1000  Smartphone  30000.0       3.0      Delhi   2023-11-02\n",
      "95         1053     Desktop  30000.0       3.0      Delhi   2021-09-13\n",
      "96         1002  Smartphone  45000.0       2.0  Bangalore   2022-09-08\n",
      "97         1015      Tablet  45000.0       4.0      Delhi   2022-08-24\n",
      "98         1086      Tablet  15000.0       1.0      Delhi   2022-07-10\n",
      "99         1056      Tablet  30000.0       3.0     Mumbai   2022-05-11\n",
      "100        1074      Tablet  60000.0       2.0  Bangalore   2021-08-29\n",
      "101        1011      Tablet  30000.0       1.0    Chennai   2022-06-25\n",
      "102        1073  Smartphone  15000.0       2.0     Mumbai   2021-12-27\n",
      "103        1095  Smartphone  15000.0       3.0     Mumbai   2022-01-26\n",
      "104        1015      Tablet  30000.0       3.0    Chennai   2023-04-21\n",
      "105        1071     Desktop  60000.0       1.0      Delhi   2022-03-27\n",
      "106        1075      Laptop  15000.0       1.0       Pune   2021-03-17\n",
      "107        1023      Tablet  15000.0       1.0  Bangalore   2022-08-09\n",
      "108        1027     Desktop  30000.0       1.0       Pune   2021-06-15\n",
      "109        1007      Laptop  60000.0       1.0    Chennai   2023-02-20\n",
      "110        1091      Tablet  15000.0       2.0     Mumbai   2023-11-17\n",
      "111        1035      Tablet  60000.0       3.0     Mumbai   2021-05-16\n",
      "112        1089  Smartphone  30000.0       3.0  Bangalore   2022-10-23\n",
      "113        1007      Laptop  45000.0       3.0     Mumbai   2021-08-29\n",
      "114        1057      Laptop  15000.0       3.0     Mumbai   2022-01-11\n",
      "115        1059     Desktop  30000.0       3.0  Bangalore   2023-07-05\n",
      "116        1049  Smartphone  30000.0       2.0  Bangalore   2022-11-07\n",
      "117        1027  Smartphone  60000.0       4.0    Chennai   2023-08-04\n",
      "118        1091  Smartphone  30000.0       3.0     Mumbai   2021-01-16\n",
      "119        1040  Smartphone  15000.0       1.0     Mumbai   2023-03-07\n"
     ]
    }
   ],
   "source": [
    "print(ds.to_string())"
   ]
  },
  {
   "cell_type": "code",
   "execution_count": 20,
   "id": "e90a6fa7-93eb-4aa3-86e9-9c432a088920",
   "metadata": {},
   "outputs": [],
   "source": [
    "# Handling PurchaseDate columns\n",
    "ds[\"PurchaseDate\"]=pd.to_datetime(ds[\"PurchaseDate\"],errors='coerce')"
   ]
  },
  {
   "cell_type": "code",
   "execution_count": 21,
   "id": "a5c1410b-fb7a-482f-a926-489d2796b95a",
   "metadata": {},
   "outputs": [
    {
     "name": "stdout",
     "output_type": "stream",
     "text": [
      "<class 'pandas.core.frame.DataFrame'>\n",
      "Index: 120 entries, 0 to 119\n",
      "Data columns (total 6 columns):\n",
      " #   Column        Non-Null Count  Dtype         \n",
      "---  ------        --------------  -----         \n",
      " 0   CustomerID    120 non-null    int64         \n",
      " 1   Product       120 non-null    object        \n",
      " 2   Price         120 non-null    float64       \n",
      " 3   Quantity      120 non-null    float64       \n",
      " 4   City          120 non-null    object        \n",
      " 5   PurchaseDate  120 non-null    datetime64[ns]\n",
      "dtypes: datetime64[ns](1), float64(2), int64(1), object(2)\n",
      "memory usage: 6.6+ KB\n"
     ]
    }
   ],
   "source": [
    "ds.info()"
   ]
  },
  {
   "cell_type": "code",
   "execution_count": 22,
   "id": "638f064e-8659-4f3f-900b-412087c3226f",
   "metadata": {},
   "outputs": [
    {
     "name": "stdout",
     "output_type": "stream",
     "text": [
      "     CustomerID     Product    Price  Quantity       City PurchaseDate\n",
      "0          1052     Desktop  30000.0       4.0  Bangalore   2021-06-30\n",
      "1          1041     Desktop  30000.0       3.0      Delhi   2023-01-21\n",
      "2          1057  Smartphone  30000.0       2.0  Bangalore   2023-04-06\n",
      "3          1038      Tablet  45000.0       1.0    Chennai   2023-07-05\n",
      "4          1013  Smartphone  45000.0       3.0     Mumbai   2022-04-11\n",
      "5          1094      Laptop  60000.0       3.0     Mumbai   2022-03-12\n",
      "6          1004      Laptop  30000.0       2.0    Chennai   2022-02-25\n",
      "7          1034      Laptop  30000.0       2.0    Chennai   2022-12-22\n",
      "8          1086      Laptop  30000.0       3.0      Delhi   2022-10-23\n",
      "9          1092     Desktop  30000.0       3.0     Mumbai   2022-03-12\n",
      "10         1074      Laptop  45000.0       3.0  Bangalore   2021-08-14\n",
      "11         1017     Desktop  45000.0       3.0       Pune   2022-08-09\n",
      "12         1075     Desktop  30000.0       1.0       Pune   2021-09-28\n",
      "13         1008      Laptop  60000.0       1.0    Chennai   2021-09-13\n",
      "14         1073      Laptop  15000.0       3.0      Delhi   2021-01-01\n",
      "15         1057      Tablet  15000.0       3.0       Pune   2022-11-22\n",
      "16         1016  Smartphone  60000.0       4.0     Mumbai   2023-09-03\n",
      "17         1006      Laptop  30000.0       3.0    Chennai   2022-07-10\n",
      "18         1045      Tablet  45000.0       1.0  Bangalore   2023-01-21\n",
      "19         1012      Tablet  15000.0       3.0    Chennai   2023-07-20\n",
      "20         1039  Smartphone  30000.0       3.0  Bangalore   2021-02-15\n",
      "21         1041     Desktop  30000.0       3.0    Chennai   2021-01-01\n",
      "22         1008      Laptop  60000.0       4.0    Chennai   2021-04-16\n",
      "23         1049  Smartphone  30000.0       2.0    Chennai   2022-02-25\n",
      "24         1026      Laptop  15000.0       4.0  Bangalore   2023-03-22\n",
      "25         1065      Tablet  30000.0       4.0  Bangalore   2021-01-31\n",
      "26         1004      Tablet  15000.0       3.0    Chennai   2022-04-11\n",
      "27         1028     Desktop  60000.0       4.0       Pune   2021-05-16\n",
      "28         1036      Tablet  60000.0       1.0      Delhi   2022-05-11\n",
      "29         1037      Tablet  30000.0       3.0      Delhi   2023-03-22\n",
      "30         1082  Smartphone  30000.0       1.0      Delhi   2022-04-11\n",
      "31         1007      Laptop  30000.0       2.0  Bangalore   2023-01-06\n",
      "32         1064      Laptop  30000.0       3.0  Bangalore   2021-04-01\n",
      "33         1085  Smartphone  30000.0       2.0       Pune   2021-04-16\n",
      "34         1016     Desktop  45000.0       3.0      Delhi   2023-08-19\n",
      "35         1070      Laptop  45000.0       3.0      Delhi   2023-04-21\n",
      "36         1088      Tablet  45000.0       4.0    Chennai   2023-09-18\n",
      "37         1044      Laptop  45000.0       3.0  Bangalore   2023-05-21\n",
      "38         1003      Tablet  15000.0       2.0      Delhi   2023-12-02\n",
      "39         1035     Desktop  45000.0       4.0       Pune   2023-03-07\n",
      "40         1069  Smartphone  60000.0       3.0       Pune   2023-09-18\n",
      "41         1030      Laptop  60000.0       4.0      Delhi   2023-01-21\n",
      "42         1018  Smartphone  15000.0       1.0  Bangalore   2021-04-16\n",
      "43         1060      Laptop  45000.0       4.0       Pune   2022-05-11\n",
      "44         1053      Tablet  45000.0       1.0    Chennai   2022-05-26\n",
      "45         1038  Smartphone  45000.0       4.0       Pune   2022-04-11\n",
      "46         1090      Laptop  30000.0       1.0     Mumbai   2022-11-07\n",
      "47         1073      Tablet  30000.0       2.0     Mumbai   2021-08-14\n",
      "48         1089  Smartphone  30000.0       3.0  Bangalore   2023-10-03\n",
      "49         1018  Smartphone  30000.0       3.0      Delhi   2022-06-25\n",
      "50         1038      Laptop  45000.0       4.0  Bangalore   2023-03-07\n",
      "51         1066      Laptop  45000.0       3.0  Bangalore   2021-07-15\n",
      "52         1044      Laptop  30000.0       3.0  Bangalore   2023-03-22\n",
      "53         1012      Tablet  30000.0       3.0  Bangalore   2022-12-07\n",
      "54         1091      Laptop  30000.0       1.0    Chennai   2021-04-01\n",
      "55         1057  Smartphone  60000.0       2.0    Chennai   2021-04-01\n",
      "56         1019  Smartphone  30000.0       2.0       Pune   2022-04-26\n",
      "57         1091      Laptop  30000.0       3.0     Mumbai   2021-11-27\n",
      "58         1071      Laptop  30000.0       2.0  Bangalore   2021-09-28\n",
      "59         1060     Desktop  15000.0       4.0       Pune   2021-09-28\n",
      "60         1038  Smartphone  30000.0       2.0     Mumbai   2022-06-10\n",
      "61         1000      Tablet  15000.0       3.0      Delhi   2022-02-25\n",
      "62         1002     Desktop  60000.0       2.0    Chennai   2023-06-05\n",
      "63         1076      Laptop  30000.0       4.0     Mumbai   2021-01-16\n",
      "64         1091      Laptop  30000.0       1.0      Delhi   2021-01-01\n",
      "65         1061  Smartphone  15000.0       3.0     Mumbai   2022-11-22\n",
      "66         1062      Laptop  30000.0       1.0    Chennai   2023-10-18\n",
      "67         1024      Tablet  30000.0       1.0    Chennai   2021-10-13\n",
      "68         1055  Smartphone  45000.0       1.0       Pune   2021-05-31\n",
      "69         1032      Laptop  15000.0       3.0  Bangalore   2021-01-16\n",
      "70         1037  Smartphone  30000.0       3.0     Mumbai   2023-09-18\n",
      "71         1005      Laptop  15000.0       1.0     Mumbai   2021-06-15\n",
      "72         1057      Laptop  15000.0       3.0      Delhi   2021-10-13\n",
      "73         1043      Laptop  45000.0       4.0    Chennai   2021-03-02\n",
      "74         1044      Tablet  30000.0       4.0     Mumbai   2022-06-25\n",
      "75         1031      Tablet  15000.0       2.0    Chennai   2022-07-10\n",
      "76         1044  Smartphone  30000.0       3.0     Mumbai   2021-05-01\n",
      "77         1060      Laptop  60000.0       3.0       Pune   2023-02-20\n",
      "78         1046      Laptop  15000.0       1.0  Bangalore   2022-10-08\n",
      "79         1020      Tablet  15000.0       2.0     Mumbai   2021-12-12\n",
      "80         1079      Laptop  45000.0       4.0    Chennai   2022-03-12\n",
      "81         1084      Tablet  30000.0       3.0       Pune   2023-05-21\n",
      "82         1074      Laptop  60000.0       3.0     Mumbai   2021-07-15\n",
      "83         1035  Smartphone  30000.0       1.0      Delhi   2021-05-01\n",
      "84         1098      Laptop  60000.0       4.0  Bangalore   2022-08-09\n",
      "85         1018      Laptop  30000.0       3.0     Mumbai   2023-09-03\n",
      "86         1019     Desktop  30000.0       3.0       Pune   2021-12-27\n",
      "87         1056      Tablet  30000.0       1.0      Delhi   2023-12-17\n",
      "88         1017      Laptop  45000.0       3.0       Pune   2021-11-12\n",
      "89         1046      Laptop  45000.0       4.0       Pune   2021-02-15\n",
      "90         1048     Desktop  45000.0       3.0      Delhi   2022-01-11\n",
      "91         1013     Desktop  45000.0       3.0       Pune   2023-05-06\n",
      "92         1014      Tablet  60000.0       3.0      Delhi   2022-02-25\n",
      "93         1030     Desktop  30000.0       3.0     Mumbai   2022-06-25\n",
      "94         1000  Smartphone  30000.0       3.0      Delhi   2023-11-02\n",
      "95         1053     Desktop  30000.0       3.0      Delhi   2021-09-13\n",
      "96         1002  Smartphone  45000.0       2.0  Bangalore   2022-09-08\n",
      "97         1015      Tablet  45000.0       4.0      Delhi   2022-08-24\n",
      "98         1086      Tablet  15000.0       1.0      Delhi   2022-07-10\n",
      "99         1056      Tablet  30000.0       3.0     Mumbai   2022-05-11\n",
      "100        1074      Tablet  60000.0       2.0  Bangalore   2021-08-29\n",
      "101        1011      Tablet  30000.0       1.0    Chennai   2022-06-25\n",
      "102        1073  Smartphone  15000.0       2.0     Mumbai   2021-12-27\n",
      "103        1095  Smartphone  15000.0       3.0     Mumbai   2022-01-26\n",
      "104        1015      Tablet  30000.0       3.0    Chennai   2023-04-21\n",
      "105        1071     Desktop  60000.0       1.0      Delhi   2022-03-27\n",
      "106        1075      Laptop  15000.0       1.0       Pune   2021-03-17\n",
      "107        1023      Tablet  15000.0       1.0  Bangalore   2022-08-09\n",
      "108        1027     Desktop  30000.0       1.0       Pune   2021-06-15\n",
      "109        1007      Laptop  60000.0       1.0    Chennai   2023-02-20\n",
      "110        1091      Tablet  15000.0       2.0     Mumbai   2023-11-17\n",
      "111        1035      Tablet  60000.0       3.0     Mumbai   2021-05-16\n",
      "112        1089  Smartphone  30000.0       3.0  Bangalore   2022-10-23\n",
      "113        1007      Laptop  45000.0       3.0     Mumbai   2021-08-29\n",
      "114        1057      Laptop  15000.0       3.0     Mumbai   2022-01-11\n",
      "115        1059     Desktop  30000.0       3.0  Bangalore   2023-07-05\n",
      "116        1049  Smartphone  30000.0       2.0  Bangalore   2022-11-07\n",
      "117        1027  Smartphone  60000.0       4.0    Chennai   2023-08-04\n",
      "118        1091  Smartphone  30000.0       3.0     Mumbai   2021-01-16\n",
      "119        1040  Smartphone  15000.0       1.0     Mumbai   2023-03-07\n"
     ]
    }
   ],
   "source": [
    "print(ds.to_string())"
   ]
  },
  {
   "cell_type": "code",
   "execution_count": 23,
   "id": "bb5bd830-795a-4943-bf7a-e96186d0d08c",
   "metadata": {},
   "outputs": [],
   "source": [
    "# To save file\n",
    "ds.to_csv(\"Cleaned_Data2.csv\")"
   ]
  },
  {
   "cell_type": "code",
   "execution_count": null,
   "id": "3afd94e8-a55d-4ffc-955a-9b8869f66f55",
   "metadata": {},
   "outputs": [],
   "source": []
  }
 ],
 "metadata": {
  "kernelspec": {
   "display_name": "Python 3 (ipykernel)",
   "language": "python",
   "name": "python3"
  },
  "language_info": {
   "codemirror_mode": {
    "name": "ipython",
    "version": 3
   },
   "file_extension": ".py",
   "mimetype": "text/x-python",
   "name": "python",
   "nbconvert_exporter": "python",
   "pygments_lexer": "ipython3",
   "version": "3.12.7"
  }
 },
 "nbformat": 4,
 "nbformat_minor": 5
}
